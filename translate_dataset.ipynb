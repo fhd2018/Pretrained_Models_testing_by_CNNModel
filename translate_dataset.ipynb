{
 "cells": [
  {
   "cell_type": "code",
   "execution_count": null,
   "metadata": {},
   "outputs": [],
   "source": [
    "!pip install deep_translator"
   ]
  },
  {
   "cell_type": "code",
   "execution_count": null,
   "metadata": {},
   "outputs": [],
   "source": [
    "import numpy as np\n",
    "import pandas as pd\n",
    "import tensorflow as tf\n",
    "import transformers\n",
    "\n",
    "from deep_translator import GoogleTranslator\n",
    "\n",
    "def translate(text):\n",
    "    translated = GoogleTranslator(source='english', target='arabic').translate(text)\n",
    "    return translated\n",
    "\n",
    "b_data = pd.read_csv('SNLI_Corpus/snli_1.0_train.csv')\n",
    "b_data = b_data.dropna()\n",
    "col = 5000\n",
    "row = 195303\n",
    "sentences1 = b_data['sentence1'][row:row + col]\n",
    "sentences2 = b_data['sentence2'][row:row + col]\n",
    "similarity = b_data['similarity']\n",
    "sent1list = []\n",
    "sent2list = []\n",
    "xx = row\n",
    "y = 1\n",
    "for i , j  in zip(sentences1,sentences2):\n",
    "    sent1 = translate(i)\n",
    "    sent1list.append(sent1)\n",
    "    sent2 = translate(j)\n",
    "    sent2list.append(sent2)\n",
    "    print(f'index :{xx * 1} row :{y * 1}')\n",
    "    xx += 1\n",
    "    y += 1"
   ]
  },
  {
   "cell_type": "code",
   "execution_count": null,
   "metadata": {},
   "outputs": [],
   "source": [
    "file = pd.DataFrame()\n",
    "file['text1'] = sent1list\n",
    "file['text2'] = sent2list\n",
    "\n",
    "file.to_excel('200303.xlsx')"
   ]
  }
 ],
 "metadata": {
  "language_info": {
   "name": "python"
  }
 },
 "nbformat": 4,
 "nbformat_minor": 2
}
